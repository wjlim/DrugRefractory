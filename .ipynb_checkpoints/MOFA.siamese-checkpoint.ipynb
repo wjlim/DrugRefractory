{
 "cells": [
  {
   "cell_type": "code",
   "execution_count": 1,
   "id": "738db057-66a6-4d8a-b783-578e075c0eae",
   "metadata": {},
   "outputs": [],
   "source": [
    "import keras\n",
    "from keras.models import Model, Sequential\n",
    "from tensorflow.keras.optimizers import Adam\n",
    "from keras.layers import Dense, Dropout, Flatten, Convolution2D, MaxPooling2D,ZeroPadding2D\n",
    "from keras.layers import Input, Lambda\n",
    "from keras.utils import np_utils\n",
    "from keras.datasets import mnist\n",
    "from keras import backend as K\n",
    "import numpy as np\n",
    "import matplotlib.pyplot as plt\n",
    "from sklearn.manifold import TSNE\n",
    "import matplotlib.pyplot as plt\n",
    "import pandas as pd\n",
    "import tensorflow_addons as tfa\n",
    "from itertools import combinations\n",
    "import tensorflow as tf\n",
    "from tqdm.keras import TqdmCallback\n",
    "import warnings\n",
    "warnings.filterwarnings(action='ignore')\n",
    "import seaborn as sns; sns.set()\n",
    "import matplotlib.pyplot as plt\n",
    "import matplotlib.patheffects as PathEffects\n",
    "np.random.seed(1987)\n",
    "from keras.utils.vis_utils import plot_model"
   ]
  },
  {
   "cell_type": "code",
   "execution_count": 2,
   "id": "4f0234bc-268f-4997-955a-e6d91dc52b3b",
   "metadata": {},
   "outputs": [],
   "source": [
    "def recall_m(y_true, y_pred):\n",
    "    true_positives = K.sum(K.round(K.clip(y_true * y_pred, 0, 1)))\n",
    "    possible_positives = K.sum(K.round(K.clip(y_true, 0, 1)))\n",
    "    recall = true_positives / (possible_positives + K.epsilon())\n",
    "    return recall\n",
    "\n",
    "def precision_m(y_true, y_pred):\n",
    "    true_positives = K.sum(K.round(K.clip(y_true * y_pred, 0, 1)))\n",
    "    predicted_positives = K.sum(K.round(K.clip(y_pred, 0, 1)))\n",
    "    precision = true_positives / (predicted_positives + K.epsilon())\n",
    "    return precision\n",
    "\n",
    "def f1_m(y_true, y_pred):\n",
    "    precision = precision_m(y_true, y_pred)\n",
    "    recall = recall_m(y_true, y_pred)\n",
    "    return 2*((precision*recall)/(precision+recall+K.epsilon()))\n"
   ]
  },
  {
   "cell_type": "markdown",
   "id": "23016d21-39fe-4adf-bde2-53ec6edbc286",
   "metadata": {},
   "source": [
    "## 0 = others, 1 = responders, 2 = non_responders"
   ]
  },
  {
   "cell_type": "code",
   "execution_count": 5,
   "id": "b73229c8-4145-4ad1-b588-0b8ac0c10054",
   "metadata": {},
   "outputs": [
    {
     "data": {
      "text/html": [
       "<div>\n",
       "<style scoped>\n",
       "    .dataframe tbody tr th:only-of-type {\n",
       "        vertical-align: middle;\n",
       "    }\n",
       "\n",
       "    .dataframe tbody tr th {\n",
       "        vertical-align: top;\n",
       "    }\n",
       "\n",
       "    .dataframe thead th {\n",
       "        text-align: right;\n",
       "    }\n",
       "</style>\n",
       "<table border=\"1\" class=\"dataframe\">\n",
       "  <thead>\n",
       "    <tr style=\"text-align: right;\">\n",
       "      <th></th>\n",
       "      <th>LYZ</th>\n",
       "      <th>GNB4</th>\n",
       "      <th>LOXL2</th>\n",
       "      <th>COL6A2</th>\n",
       "      <th>ADAMTS1</th>\n",
       "      <th>SDC2</th>\n",
       "      <th>response</th>\n",
       "    </tr>\n",
       "  </thead>\n",
       "  <tbody>\n",
       "    <tr>\n",
       "      <th>ACH-000520</th>\n",
       "      <td>-0.357885</td>\n",
       "      <td>0.618518</td>\n",
       "      <td>0.115044</td>\n",
       "      <td>0.760004</td>\n",
       "      <td>0.270484</td>\n",
       "      <td>-0.264707</td>\n",
       "      <td>1</td>\n",
       "    </tr>\n",
       "    <tr>\n",
       "      <th>ACH-001385</th>\n",
       "      <td>-0.357566</td>\n",
       "      <td>-0.404525</td>\n",
       "      <td>-0.342292</td>\n",
       "      <td>-0.245859</td>\n",
       "      <td>-0.394273</td>\n",
       "      <td>-0.352426</td>\n",
       "      <td>1</td>\n",
       "    </tr>\n",
       "    <tr>\n",
       "      <th>ACH-000971</th>\n",
       "      <td>-0.356942</td>\n",
       "      <td>-0.914140</td>\n",
       "      <td>-0.324191</td>\n",
       "      <td>-0.234632</td>\n",
       "      <td>-0.468588</td>\n",
       "      <td>-0.536016</td>\n",
       "      <td>1</td>\n",
       "    </tr>\n",
       "    <tr>\n",
       "      <th>ACH-000354</th>\n",
       "      <td>0.325473</td>\n",
       "      <td>-0.907237</td>\n",
       "      <td>-0.350063</td>\n",
       "      <td>-0.352173</td>\n",
       "      <td>-0.465839</td>\n",
       "      <td>-0.535810</td>\n",
       "      <td>1</td>\n",
       "    </tr>\n",
       "    <tr>\n",
       "      <th>ACH-000282</th>\n",
       "      <td>-0.357403</td>\n",
       "      <td>0.031231</td>\n",
       "      <td>0.052924</td>\n",
       "      <td>0.687173</td>\n",
       "      <td>-0.175402</td>\n",
       "      <td>-0.402580</td>\n",
       "      <td>1</td>\n",
       "    </tr>\n",
       "  </tbody>\n",
       "</table>\n",
       "</div>"
      ],
      "text/plain": [
       "                 LYZ      GNB4     LOXL2    COL6A2   ADAMTS1      SDC2  \\\n",
       "ACH-000520 -0.357885  0.618518  0.115044  0.760004  0.270484 -0.264707   \n",
       "ACH-001385 -0.357566 -0.404525 -0.342292 -0.245859 -0.394273 -0.352426   \n",
       "ACH-000971 -0.356942 -0.914140 -0.324191 -0.234632 -0.468588 -0.536016   \n",
       "ACH-000354  0.325473 -0.907237 -0.350063 -0.352173 -0.465839 -0.535810   \n",
       "ACH-000282 -0.357403  0.031231  0.052924  0.687173 -0.175402 -0.402580   \n",
       "\n",
       "            response  \n",
       "ACH-000520         1  \n",
       "ACH-001385         1  \n",
       "ACH-000971         1  \n",
       "ACH-000354         1  \n",
       "ACH-000282         1  "
      ]
     },
     "execution_count": 5,
     "metadata": {},
     "output_type": "execute_result"
    }
   ],
   "source": [
    "marker_df = pd.read_csv('./MOFA/MOFA.markers.exp.scaled.csv', index_col = 0)\n",
    "predict_df = pd.read_csv('./MOFA/TCGA_exp.MOFA.markers.scaled.csv', index_col = 0)\n",
    "marker_df.head()\n",
    "#Y = marker_df.pop('response')"
   ]
  },
  {
   "cell_type": "code",
   "execution_count": 7,
   "id": "77e84059-30f4-4792-8e24-167bf52a3772",
   "metadata": {},
   "outputs": [
    {
     "data": {
      "text/html": [
       "<div>\n",
       "<style scoped>\n",
       "    .dataframe tbody tr th:only-of-type {\n",
       "        vertical-align: middle;\n",
       "    }\n",
       "\n",
       "    .dataframe tbody tr th {\n",
       "        vertical-align: top;\n",
       "    }\n",
       "\n",
       "    .dataframe thead th {\n",
       "        text-align: right;\n",
       "    }\n",
       "</style>\n",
       "<table border=\"1\" class=\"dataframe\">\n",
       "  <thead>\n",
       "    <tr style=\"text-align: right;\">\n",
       "      <th></th>\n",
       "      <th>LYZ</th>\n",
       "      <th>GNB4</th>\n",
       "      <th>LOXL2</th>\n",
       "      <th>COL6A2</th>\n",
       "      <th>ADAMTS1</th>\n",
       "      <th>SDC2</th>\n",
       "      <th>response</th>\n",
       "    </tr>\n",
       "  </thead>\n",
       "  <tbody>\n",
       "    <tr>\n",
       "      <th>ACH-001113</th>\n",
       "      <td>0.000000</td>\n",
       "      <td>4.448901</td>\n",
       "      <td>2.641546</td>\n",
       "      <td>4.283181</td>\n",
       "      <td>2.263034</td>\n",
       "      <td>4.592756</td>\n",
       "      <td>0</td>\n",
       "    </tr>\n",
       "    <tr>\n",
       "      <th>ACH-001289</th>\n",
       "      <td>0.000000</td>\n",
       "      <td>3.830864</td>\n",
       "      <td>1.104337</td>\n",
       "      <td>3.124328</td>\n",
       "      <td>3.967169</td>\n",
       "      <td>8.359750</td>\n",
       "      <td>0</td>\n",
       "    </tr>\n",
       "    <tr>\n",
       "      <th>ACH-001339</th>\n",
       "      <td>2.336283</td>\n",
       "      <td>4.657640</td>\n",
       "      <td>5.904484</td>\n",
       "      <td>4.269781</td>\n",
       "      <td>4.847997</td>\n",
       "      <td>6.312701</td>\n",
       "      <td>0</td>\n",
       "    </tr>\n",
       "    <tr>\n",
       "      <th>ACH-001538</th>\n",
       "      <td>0.042644</td>\n",
       "      <td>0.056584</td>\n",
       "      <td>4.149747</td>\n",
       "      <td>0.056584</td>\n",
       "      <td>0.124328</td>\n",
       "      <td>0.321928</td>\n",
       "      <td>0</td>\n",
       "    </tr>\n",
       "    <tr>\n",
       "      <th>ACH-000242</th>\n",
       "      <td>0.790772</td>\n",
       "      <td>0.565597</td>\n",
       "      <td>0.189034</td>\n",
       "      <td>0.176323</td>\n",
       "      <td>5.168722</td>\n",
       "      <td>5.624686</td>\n",
       "      <td>0</td>\n",
       "    </tr>\n",
       "    <tr>\n",
       "      <th>...</th>\n",
       "      <td>...</td>\n",
       "      <td>...</td>\n",
       "      <td>...</td>\n",
       "      <td>...</td>\n",
       "      <td>...</td>\n",
       "      <td>...</td>\n",
       "      <td>...</td>\n",
       "    </tr>\n",
       "    <tr>\n",
       "      <th>ACH-000750</th>\n",
       "      <td>0.799087</td>\n",
       "      <td>4.243364</td>\n",
       "      <td>7.071462</td>\n",
       "      <td>7.770433</td>\n",
       "      <td>5.391287</td>\n",
       "      <td>0.150560</td>\n",
       "      <td>0</td>\n",
       "    </tr>\n",
       "    <tr>\n",
       "      <th>ACH-000285</th>\n",
       "      <td>0.275007</td>\n",
       "      <td>2.969012</td>\n",
       "      <td>1.589763</td>\n",
       "      <td>0.356144</td>\n",
       "      <td>0.226509</td>\n",
       "      <td>0.176323</td>\n",
       "      <td>0</td>\n",
       "    </tr>\n",
       "    <tr>\n",
       "      <th>ACH-001858</th>\n",
       "      <td>0.070389</td>\n",
       "      <td>4.121015</td>\n",
       "      <td>8.144607</td>\n",
       "      <td>7.591709</td>\n",
       "      <td>5.529509</td>\n",
       "      <td>2.859970</td>\n",
       "      <td>0</td>\n",
       "    </tr>\n",
       "    <tr>\n",
       "      <th>ACH-001997</th>\n",
       "      <td>7.568792</td>\n",
       "      <td>0.084064</td>\n",
       "      <td>1.310340</td>\n",
       "      <td>0.000000</td>\n",
       "      <td>0.014355</td>\n",
       "      <td>0.000000</td>\n",
       "      <td>0</td>\n",
       "    </tr>\n",
       "    <tr>\n",
       "      <th>ACH-000052</th>\n",
       "      <td>1.584963</td>\n",
       "      <td>5.246028</td>\n",
       "      <td>1.883621</td>\n",
       "      <td>4.266037</td>\n",
       "      <td>1.485427</td>\n",
       "      <td>6.773601</td>\n",
       "      <td>0</td>\n",
       "    </tr>\n",
       "  </tbody>\n",
       "</table>\n",
       "<p>1389 rows × 7 columns</p>\n",
       "</div>"
      ],
      "text/plain": [
       "                 LYZ      GNB4     LOXL2    COL6A2   ADAMTS1      SDC2  \\\n",
       "ACH-001113  0.000000  4.448901  2.641546  4.283181  2.263034  4.592756   \n",
       "ACH-001289  0.000000  3.830864  1.104337  3.124328  3.967169  8.359750   \n",
       "ACH-001339  2.336283  4.657640  5.904484  4.269781  4.847997  6.312701   \n",
       "ACH-001538  0.042644  0.056584  4.149747  0.056584  0.124328  0.321928   \n",
       "ACH-000242  0.790772  0.565597  0.189034  0.176323  5.168722  5.624686   \n",
       "...              ...       ...       ...       ...       ...       ...   \n",
       "ACH-000750  0.799087  4.243364  7.071462  7.770433  5.391287  0.150560   \n",
       "ACH-000285  0.275007  2.969012  1.589763  0.356144  0.226509  0.176323   \n",
       "ACH-001858  0.070389  4.121015  8.144607  7.591709  5.529509  2.859970   \n",
       "ACH-001997  7.568792  0.084064  1.310340  0.000000  0.014355  0.000000   \n",
       "ACH-000052  1.584963  5.246028  1.883621  4.266037  1.485427  6.773601   \n",
       "\n",
       "            response  \n",
       "ACH-001113         0  \n",
       "ACH-001289         0  \n",
       "ACH-001339         0  \n",
       "ACH-001538         0  \n",
       "ACH-000242         0  \n",
       "...              ...  \n",
       "ACH-000750         0  \n",
       "ACH-000285         0  \n",
       "ACH-001858         0  \n",
       "ACH-001997         0  \n",
       "ACH-000052         0  \n",
       "\n",
       "[1389 rows x 7 columns]"
      ]
     },
     "execution_count": 7,
     "metadata": {},
     "output_type": "execute_result"
    }
   ],
   "source": [
    "data_df = pd.read_csv('./CCLE/CCLE.exp_markers.csv', index_col = 0)\n",
    "idx_list = []\n",
    "for i in data_df.index:\n",
    "    if i in list(marker_df.index):\n",
    "        idx_list.append(True)\n",
    "    else:\n",
    "        idx_list.append(False)\n",
    "data_df['response'] = 0\n",
    "data_df.loc[idx_list,'response'] = marker_df['response']\n",
    "data_df"
   ]
  },
  {
   "cell_type": "code",
   "execution_count": 8,
   "id": "3122fb7d-eabb-40c8-81bf-1cee51f066bc",
   "metadata": {},
   "outputs": [
    {
     "data": {
      "text/plain": [
       "(39, 7)"
      ]
     },
     "execution_count": 8,
     "metadata": {},
     "output_type": "execute_result"
    }
   ],
   "source": [
    "non_targets = data_df[data_df['response']==0].sample(n=20, random_state = 4)\n",
    "targets = data_df[data_df['response'] !=0]\n",
    "input_df = pd.concat([targets, non_targets])\n",
    "input_df.shape"
   ]
  },
  {
   "cell_type": "code",
   "execution_count": 10,
   "id": "bc720086-3312-4dec-a83d-c0175fe811eb",
   "metadata": {},
   "outputs": [],
   "source": [
    "X_test = pd.concat([input_df[input_df['response'] == 0].sample(frac = 0.3, random_state = 3),\n",
    "                    input_df[input_df['response'] == 1].sample(frac = 0.3, random_state = 3),\n",
    "                     ])\n",
    "X_train_idx = list(map(lambda x:x not in X_test.index, input_df.index))\n",
    "X_train = input_df[X_train_idx]\n",
    "Y_test = X_test.pop('response')\n",
    "Y_train = X_train.pop('response')"
   ]
  },
  {
   "cell_type": "code",
   "execution_count": 11,
   "id": "e30b829f-5d01-4363-b9bc-aa837f6ce4c8",
   "metadata": {},
   "outputs": [
    {
     "data": {
      "text/plain": [
       "(12, 6)"
      ]
     },
     "execution_count": 11,
     "metadata": {},
     "output_type": "execute_result"
    }
   ],
   "source": [
    "X_test.shape"
   ]
  },
  {
   "cell_type": "code",
   "execution_count": 12,
   "id": "e2419887-b6f6-491e-932d-df8afe596317",
   "metadata": {},
   "outputs": [
    {
     "data": {
      "text/plain": [
       "(27, 6)"
      ]
     },
     "execution_count": 12,
     "metadata": {},
     "output_type": "execute_result"
    }
   ],
   "source": [
    "X_train.shape"
   ]
  },
  {
   "cell_type": "code",
   "execution_count": 13,
   "id": "53d44871-95fe-487d-8a93-ba62ae238e32",
   "metadata": {},
   "outputs": [],
   "source": [
    "def generate_triplets(X_train, X_test, Y_train, Y_test, test=False):\n",
    "    if test:\n",
    "        X = X_test\n",
    "        y = Y_test\n",
    "    if not test:\n",
    "        X = X_train\n",
    "        y = Y_test\n",
    "\n",
    "    def get_sample(X, y, label):\n",
    "        idx = np.random.randint(len(y))\n",
    "        while y[idx] != label:\n",
    "            idx = np.random.randint(len(y))\n",
    "        return X.iloc[idx,:]\n",
    "    \n",
    "    def get_triplet(X, y):\n",
    "        n = a = np.random.randint(2)\n",
    "        while n == a:\n",
    "            n = np.random.randint(2)\n",
    "        a_out, p_out = get_sample(X, y, a), get_sample(X, y, a)\n",
    "        n_out = get_sample(X, y, n)\n",
    "        return a_out, p_out, n_out\n",
    "\n",
    "    while True:\n",
    "        list_a = []\n",
    "        list_p = []\n",
    "        list_n = []\n",
    "\n",
    "        for i in range(batch_size):\n",
    "            a, p, n = get_triplet(X, y)\n",
    "            list_a.append(a)\n",
    "            list_p.append(p)\n",
    "            list_n.append(n)\n",
    "            \n",
    "        A = np.array(list_a, dtype='float32')\n",
    "        P = np.array(list_p, dtype='float32')\n",
    "        N = np.array(list_n, dtype='float32')\n",
    "        \n",
    "        label = np.ones(batch_size)\n",
    "        yield [A, P, N], label"
   ]
  },
  {
   "cell_type": "code",
   "execution_count": 14,
   "id": "9d7dffae-84b5-4f5e-a518-49aa1120e537",
   "metadata": {},
   "outputs": [],
   "source": [
    "def identity_loss(y_true, y_pred):\n",
    "    return K.mean(y_pred)\n",
    "\n",
    "def triplet_loss(x, alpha = 0.2):\n",
    "    anchor,positive,negative = x\n",
    "    pos_dist = K.sum(K.square(anchor-positive),axis=1)\n",
    "    neg_dist = K.sum(K.square(anchor-negative),axis=1)\n",
    "    basic_loss = pos_dist-neg_dist+alpha\n",
    "    loss = K.maximum(basic_loss,0.0)\n",
    "    return loss\n",
    "\n",
    "def embedding_model():\n",
    "    model = Sequential()\n",
    "    model.add(Dense(128, activation='relu',\n",
    "                        input_shape=(6,1)))\n",
    "    model.add(Dropout(0.2))\n",
    "    model.add(Dense(64, activation = 'relu'))\n",
    "    model.add(Dropout(0.2))\n",
    "    model.add(Dense(32, activation = 'relu'))\n",
    "    model.add(Dropout(0.2))\n",
    "    model.add(Dense(16, activation = 'relu'))\n",
    "    model.add(Dropout(0.2))\n",
    "    model.add(Dense(1))\n",
    "    return model\n",
    "\n",
    "def complete_model(base_model):\n",
    "    input_1 = Input((6, 1))\n",
    "    input_2 = Input((6, 1))\n",
    "    input_3 = Input((6, 1))\n",
    "        \n",
    "    A = base_model(input_1)\n",
    "    P = base_model(input_2)\n",
    "    N = base_model(input_3)\n",
    "   \n",
    "    loss = Lambda(triplet_loss)([A, P, N]) \n",
    "    model = Model(inputs=[input_1, input_2, input_3], outputs=loss)\n",
    "    model.compile(loss=identity_loss, optimizer=Adam(LR))\n",
    "    return model\n",
    "\n",
    "def scatter(x, labels, subtitle=None):\n",
    "    palette = np.array(sns.color_palette(\"hls\", 3))\n",
    "    f = plt.figure(figsize=(8, 8))\n",
    "    ax = plt.subplot(aspect='equal')\n",
    "    sc = ax.scatter(x[:,0], x[:,1], lw=0,alpha = 0.5, s=40,\n",
    "                    c=palette[labels.astype(np.int)] )\n",
    "    plt.xlim(-25, 25)\n",
    "    plt.ylim(-25, 25)\n",
    "    plt.legend( loc='upper right')\n",
    "    ax.axis('off')\n",
    "    ax.axis('tight')"
   ]
  },
  {
   "cell_type": "code",
   "execution_count": 15,
   "id": "e183c2f7-e666-4313-a5f9-8536ae12f287",
   "metadata": {},
   "outputs": [],
   "source": [
    "batch_size = 100\n",
    "LR = 0.00001\n",
    "EPOCHS = 100\n",
    "alpha = 0.2 \n",
    "\n",
    "train_generator = generate_triplets(X_train, X_test, Y_train, Y_test)\n",
    "test_generator = generate_triplets(X_train, X_test, Y_train, Y_test,test=True)\n",
    "batch = next(train_generator)\n",
    "\n",
    "base_model = embedding_model()\n",
    "model = complete_model(base_model)\n",
    "# checkpoint_filepath = './checkpoint/model.hdf5'\n",
    "# model.load_weights(checkpoint_filepath)\n"
   ]
  },
  {
   "cell_type": "code",
   "execution_count": 16,
   "id": "80aed2e9-e2aa-489e-9330-4862b928408a",
   "metadata": {},
   "outputs": [
    {
     "data": {
      "image/png": "[encoded data removed]",
      "text/plain": [
       "<IPython.core.display.Image object>"
      ]
     },
     "execution_count": 16,
     "metadata": {},
     "output_type": "execute_result"
    }
   ],
   "source": [
    "plot_model(base_model, to_file='base_model_plot.png', show_shapes=True, show_layer_names=True)"
   ]
  },
  {
   "cell_type": "code",
   "execution_count": 19,
   "id": "b6d65c3b-af08-4cfc-84f9-81cf996d9154",
   "metadata": {},
   "outputs": [
    {
     "name": "stdout",
     "output_type": "stream",
     "text": [
      "Model: \"sequential\"\n",
      "_________________________________________________________________\n",
      " Layer (type)                Output Shape              Param #   \n",
      "=================================================================\n",
      " dense (Dense)               (None, 6, 128)            256       \n",
      "                                                                 \n",
      " dropout (Dropout)           (None, 6, 128)            0         \n",
      "                                                                 \n",
      " dense_1 (Dense)             (None, 6, 64)             8256      \n",
      "                                                                 \n",
      " dropout_1 (Dropout)         (None, 6, 64)             0         \n",
      "                                                                 \n",
      " dense_2 (Dense)             (None, 6, 32)             2080      \n",
      "                                                                 \n",
      " dropout_2 (Dropout)         (None, 6, 32)             0         \n",
      "                                                                 \n",
      " dense_3 (Dense)             (None, 6, 16)             528       \n",
      "                                                                 \n",
      " dropout_3 (Dropout)         (None, 6, 16)             0         \n",
      "                                                                 \n",
      " dense_4 (Dense)             (None, 6, 1)              17        \n",
      "                                                                 \n",
      "=================================================================\n",
      "Total params: 11,137\n",
      "Trainable params: 11,137\n",
      "Non-trainable params: 0\n",
      "_________________________________________________________________\n"
     ]
    }
   ],
   "source": [
    "base_model.summary()"
   ]
  },
  {
   "cell_type": "code",
   "execution_count": 17,
   "id": "39e022a3-85d3-4718-9a27-b7962f02a326",
   "metadata": {},
   "outputs": [
    {
     "data": {
      "image/png": "[encoded data removed]",
      "text/plain": [
       "<IPython.core.display.Image object>"
      ]
     },
     "execution_count": 17,
     "metadata": {},
     "output_type": "execute_result"
    }
   ],
   "source": [
    "plot_model(model, to_file='model_plot.png', show_shapes=True, show_layer_names=True)"
   ]
  },
  {
   "cell_type": "code",
   "execution_count": 18,
   "id": "3f8e85f5-42a3-4a02-9d23-f704e68661e4",
   "metadata": {},
   "outputs": [
    {
     "name": "stdout",
     "output_type": "stream",
     "text": [
      "Model: \"model\"\n",
      "__________________________________________________________________________________________________\n",
      " Layer (type)                   Output Shape         Param #     Connected to                     \n",
      "==================================================================================================\n",
      " input_1 (InputLayer)           [(None, 6, 1)]       0           []                               \n",
      "                                                                                                  \n",
      " input_2 (InputLayer)           [(None, 6, 1)]       0           []                               \n",
      "                                                                                                  \n",
      " input_3 (InputLayer)           [(None, 6, 1)]       0           []                               \n",
      "                                                                                                  \n",
      " sequential (Sequential)        (None, 6, 1)         11137       ['input_1[0][0]',                \n",
      "                                                                  'input_2[0][0]',                \n",
      "                                                                  'input_3[0][0]']                \n",
      "                                                                                                  \n",
      " lambda (Lambda)                (None, 1)            0           ['sequential[0][0]',             \n",
      "                                                                  'sequential[1][0]',             \n",
      "                                                                  'sequential[2][0]']             \n",
      "                                                                                                  \n",
      "==================================================================================================\n",
      "Total params: 11,137\n",
      "Trainable params: 11,137\n",
      "Non-trainable params: 0\n",
      "__________________________________________________________________________________________________\n"
     ]
    }
   ],
   "source": [
    "model.summary()"
   ]
  },
  {
   "cell_type": "code",
   "execution_count": 17,
   "id": "1d49b6bd-0f4f-494a-9151-3d2cef5c34fd",
   "metadata": {},
   "outputs": [
    {
     "data": {
      "application/vnd.jupyter.widget-view+json": {
       "model_id": "8bed56368ed04c69bb5c1faba35d302b",
       "version_major": 2,
       "version_minor": 0
      },
      "text/plain": [
       "0epoch [00:00, ?epoch/s]"
      ]
     },
     "metadata": {},
     "output_type": "display_data"
    },
    {
     "data": {
      "application/vnd.jupyter.widget-view+json": {
       "model_id": "",
       "version_major": 2,
       "version_minor": 0
      },
      "text/plain": [
       "0batch [00:00, ?batch/s]"
      ]
     },
     "metadata": {},
     "output_type": "display_data"
    }
   ],
   "source": [
    "with tf.device('/gpu:0'):\n",
    "    checkpoint_filepath = './checkpoint/model.v.2.0.hdf5'\n",
    "    model_checkpoint_callback = tf.keras.callbacks.ModelCheckpoint(\n",
    "    filepath=checkpoint_filepath,\n",
    "    save_weights_only=True,\n",
    "    monitor='val_loss',\n",
    "    mode='min',\n",
    "    save_best_only=True)\n",
    "    history = model.fit(train_generator, \n",
    "                        validation_data=test_generator, \n",
    "                        epochs=1000, \n",
    "                        verbose=0,\n",
    "                        steps_per_epoch=200,\n",
    "                        validation_steps=20,\n",
    "                        callbacks = [model_checkpoint_callback, TqdmCallback(verbose = 1)])"
   ]
  },
  {
   "cell_type": "code",
   "execution_count": 18,
   "id": "fea35f41-a163-4b47-823e-45521c9f2597",
   "metadata": {},
   "outputs": [
    {
     "name": "stdout",
     "output_type": "stream",
     "text": [
      "WARNING:tensorflow:Compiled the loaded model, but the compiled metrics have yet to be built. `model.compile_metrics` will be empty until you train or evaluate the model.\n"
     ]
    }
   ],
   "source": [
    "base_model.save('./checkpoint/base_model.v.2.0.hdf5')\n"
   ]
  },
  {
   "cell_type": "code",
   "execution_count": 19,
   "id": "a430a79b-1682-426b-aaea-c19dcff1a79f",
   "metadata": {},
   "outputs": [],
   "source": [
    "#checkpoint_filepath = './checkpoint/model.hdf5'\n",
    "#model.load_weights(checkpoint_filepath)"
   ]
  },
  {
   "cell_type": "code",
   "execution_count": 20,
   "id": "90532260-2d6a-4ad5-b76d-347ea5941e92",
   "metadata": {},
   "outputs": [
    {
     "name": "stdout",
     "output_type": "stream",
     "text": [
      "852 0.16596198081970215\n"
     ]
    }
   ],
   "source": [
    "for i, val in enumerate(history.history['val_loss']):\n",
    "    min_val = min(history.history['val_loss'])\n",
    "    if val == min_val:\n",
    "        print(i, val)\n",
    "        "
   ]
  },
  {
   "cell_type": "code",
   "execution_count": 21,
   "id": "120f0d98-753d-477a-9ed7-b67b53078dd3",
   "metadata": {},
   "outputs": [
    {
     "data": {
      "image/png": "[encoded data removed]",
      "text/plain": [
       "<Figure size 432x288 with 1 Axes>"
      ]
     },
     "metadata": {},
     "output_type": "display_data"
    }
   ],
   "source": [
    "plt.plot(history.history['loss'])\n",
    "plt.plot(history.history['val_loss'])\n",
    "plt.title('Training and Validation Losses',size = 20)\n",
    "plt.ylabel('loss')\n",
    "plt.xlabel('epoch')\n",
    "plt.legend(['train', 'test'], loc='upper right')\n",
    "plt.show()"
   ]
  },
  {
   "cell_type": "code",
   "execution_count": 22,
   "id": "dbd94bb3-a1d5-486f-97f6-61d3904e1337",
   "metadata": {},
   "outputs": [],
   "source": [
    "Y_train_onehot = np_utils.to_categorical(Y_train, 3)\n",
    "Y_test_onehot = np_utils.to_categorical(Y_test, 3)"
   ]
  },
  {
   "cell_type": "code",
   "execution_count": 23,
   "id": "dcbf115d-b9e8-46e1-9e29-c2a0278b8f04",
   "metadata": {},
   "outputs": [
    {
     "name": "stdout",
     "output_type": "stream",
     "text": [
      "1/1 [==============================] - 0s 292ms/step\n",
      "1/1 [==============================] - 0s 31ms/step\n"
     ]
    }
   ],
   "source": [
    "X_train_trm = base_model.predict(X_train).reshape(-1,6)\n",
    "X_test_trm = base_model.predict(X_test).reshape(-1,6)\n"
   ]
  },
  {
   "cell_type": "code",
   "execution_count": 24,
   "id": "3063b19b-8647-4ff7-8a6e-c318ee15ec1b",
   "metadata": {},
   "outputs": [
    {
     "name": "stdout",
     "output_type": "stream",
     "text": [
      "1/1 [==============================] - 0s 188ms/step\n"
     ]
    }
   ],
   "source": [
    "predict_trm = base_model.predict(X_train_trm)"
   ]
  },
  {
   "cell_type": "code",
   "execution_count": 20,
   "id": "25f5b943-4d94-4ad6-8eca-a791ba64fec9",
   "metadata": {},
   "outputs": [
    {
     "name": "stdout",
     "output_type": "stream",
     "text": [
      "Model: \"model_1\"\n",
      "_________________________________________________________________\n",
      " Layer (type)                Output Shape              Param #   \n",
      "=================================================================\n",
      " input_4 (InputLayer)        [(None, 6)]               0         \n",
      "                                                                 \n",
      " dense_5 (Dense)             (None, 12)                84        \n",
      "                                                                 \n",
      " dropout_4 (Dropout)         (None, 12)                0         \n",
      "                                                                 \n",
      " dense_6 (Dense)             (None, 12)                156       \n",
      "                                                                 \n",
      " dropout_5 (Dropout)         (None, 12)                0         \n",
      "                                                                 \n",
      " dense_7 (Dense)             (None, 3)                 39        \n",
      "                                                                 \n",
      "=================================================================\n",
      "Total params: 279\n",
      "Trainable params: 279\n",
      "Non-trainable params: 0\n",
      "_________________________________________________________________\n"
     ]
    }
   ],
   "source": [
    "Classifier_input = Input((6,))\n",
    "Classifier_layer1 = Dense(12, activation='softmax')(Classifier_input)\n",
    "Dropout1 = Dropout(0.2)(Classifier_layer1)\n",
    "Classifier_layer2 = Dense(12, activation='softmax')(Dropout1)\n",
    "Dropout2 = Dropout(0.2)(Classifier_layer2)\n",
    "Classifier_output = Dense(3, activation='softmax')(Dropout2)\n",
    "Classifier_model = Model(Classifier_input, Classifier_output)\n",
    "Classifier_model.summary()\n",
    "Classifier_model.compile(optimizer='adam',loss='categorical_crossentropy',\n",
    "                        metrics=['acc',f1_m,precision_m, recall_m])"
   ]
  },
  {
   "cell_type": "code",
   "execution_count": 21,
   "id": "bdee4af6-d518-4bad-9fdc-8d7ea0e3c8f7",
   "metadata": {},
   "outputs": [
    {
     "data": {
      "image/png": "[encoded data removed]",
      "text/plain": [
       "<IPython.core.display.Image object>"
      ]
     },
     "execution_count": 21,
     "metadata": {},
     "output_type": "execute_result"
    }
   ],
   "source": [
    "plot_model(Classifier_model, to_file='CLmodel_plot.png', show_shapes=True, show_layer_names=True)"
   ]
  },
  {
   "cell_type": "code",
   "execution_count": 22,
   "id": "9c114532-6308-40ca-98c6-1a0eaa2cfbcc",
   "metadata": {},
   "outputs": [
    {
     "name": "stdout",
     "output_type": "stream",
     "text": [
      "Model: \"model_1\"\n",
      "_________________________________________________________________\n",
      " Layer (type)                Output Shape              Param #   \n",
      "=================================================================\n",
      " input_4 (InputLayer)        [(None, 6)]               0         \n",
      "                                                                 \n",
      " dense_5 (Dense)             (None, 12)                84        \n",
      "                                                                 \n",
      " dropout_4 (Dropout)         (None, 12)                0         \n",
      "                                                                 \n",
      " dense_6 (Dense)             (None, 12)                156       \n",
      "                                                                 \n",
      " dropout_5 (Dropout)         (None, 12)                0         \n",
      "                                                                 \n",
      " dense_7 (Dense)             (None, 3)                 39        \n",
      "                                                                 \n",
      "=================================================================\n",
      "Total params: 279\n",
      "Trainable params: 279\n",
      "Non-trainable params: 0\n",
      "_________________________________________________________________\n"
     ]
    }
   ],
   "source": [
    "Classifier_model.summary()"
   ]
  },
  {
   "cell_type": "code",
   "execution_count": 29,
   "id": "a8b6fdd9-d5f4-4371-af65-af32d949fe70",
   "metadata": {},
   "outputs": [
    {
     "data": {
      "text/plain": [
       "(27, 6)"
      ]
     },
     "execution_count": 29,
     "metadata": {},
     "output_type": "execute_result"
    }
   ],
   "source": [
    "X_train_trm.shape"
   ]
  },
  {
   "cell_type": "code",
   "execution_count": 30,
   "id": "987feae9-8421-4d82-aa8d-11458bb57341",
   "metadata": {},
   "outputs": [
    {
     "data": {
      "text/plain": [
       "(27, 3)"
      ]
     },
     "execution_count": 30,
     "metadata": {},
     "output_type": "execute_result"
    }
   ],
   "source": [
    "Y_train_onehot.shape"
   ]
  },
  {
   "cell_type": "code",
   "execution_count": 31,
   "id": "380f1ffe-8a5b-48b0-8869-701d92951d0b",
   "metadata": {},
   "outputs": [
    {
     "data": {
      "application/vnd.jupyter.widget-view+json": {
       "model_id": "dd16a9a95f24426dbdc3875c23293a7b",
       "version_major": 2,
       "version_minor": 0
      },
      "text/plain": [
       "0epoch [00:00, ?epoch/s]"
      ]
     },
     "metadata": {},
     "output_type": "display_data"
    }
   ],
   "source": [
    "#history = CLmodel.fit(X_train_trm,Y_train_onehot, verbose = 0, validation_data=(X_test_trm,Y_test_onehot),epochs=10, callbacks = [TqdmCallback(verbose = 0)])\n",
    "checkpoint_filepath = './checkpoint/CLmodel.v.2.0.hdf5'\n",
    "model_checkpoint_callback = tf.keras.callbacks.ModelCheckpoint(\n",
    "filepath=checkpoint_filepath,\n",
    "save_weights_only=True,\n",
    "monitor='val_acc',\n",
    "mode='max',\n",
    "save_best_only=True)\n",
    "history = Classifier_model.fit(X_train_trm, \n",
    "                               Y_train_onehot, \n",
    "                               verbose = 0,\n",
    "                               validation_data=(X_test_trm,Y_test_onehot),\n",
    "                               epochs=3000,callbacks = [TqdmCallback(verbose = 0),\n",
    "                                                        model_checkpoint_callback])"
   ]
  },
  {
   "cell_type": "code",
   "execution_count": 48,
   "id": "4a7a8541-c20c-4280-8fc5-c7fe363c3e7c",
   "metadata": {},
   "outputs": [
    {
     "name": "stdout",
     "output_type": "stream",
     "text": [
      "1990 0.8333333134651184\n"
     ]
    }
   ],
   "source": [
    "for i, val in enumerate(history.history['val_acc']):\n",
    "    max_val = max(history.history['val_acc'])\n",
    "    if val == max_val:\n",
    "        print(i, val)\n",
    "        break\n",
    "        "
   ]
  },
  {
   "cell_type": "code",
   "execution_count": 49,
   "id": "76fd6dda-f0fb-45e1-8fb5-4475384ebcdb",
   "metadata": {},
   "outputs": [],
   "source": [
    "# CLmodel_path = './checkpoint/CLmodel.hdf5'\n",
    "# #Classifier_model.save_weights('/checkpoint/CLmodel.hdf5')\n",
    "# Classifier_model.load_weights(CLmodel_path)"
   ]
  },
  {
   "cell_type": "code",
   "execution_count": 27,
   "id": "ffaba4a6-6d14-48a9-9229-b4b9372bb1dd",
   "metadata": {},
   "outputs": [],
   "source": [
    "#Classifier_model.load_weights('./checkpoint/bk.CLmodel.hdf5')"
   ]
  },
  {
   "cell_type": "code",
   "execution_count": 62,
   "id": "704befcc-4190-4998-ae6a-2bcb335614c6",
   "metadata": {},
   "outputs": [
    {
     "data": {
      "image/png": "[encoded data removed]",
      "text/plain": [
       "<Figure size 720x432 with 1 Axes>"
      ]
     },
     "metadata": {},
     "output_type": "display_data"
    }
   ],
   "source": [
    "width = 10\n",
    "height = 6\n",
    "plt.rcParams['figure.figsize'] = [width, height]\n",
    "plt.plot(history.history['loss'])\n",
    "plt.plot(history.history['acc'])\n",
    "plt.plot(history.history['f1_m'])\n",
    "plt.plot(history.history['precision_m'])\n",
    "plt.plot(history.history['recall_m'])\n",
    "plt.plot(history.history['val_loss'])\n",
    "plt.plot(history.history['val_acc'])\n",
    "plt.plot(history.history['val_f1_m'])\n",
    "plt.plot(history.history['val_precision_m'])\n",
    "plt.plot(history.history['val_recall_m'])\n",
    "plt.title('Training and Validation accuracy',size = 20)\n",
    "plt.ylabel('accuracy')\n",
    "plt.xlabel('epochs')\n",
    "#plt.legend(['train_acc', 'test_acc', 'train_loss', 'val_loss'], loc='upper right')\n",
    "plt.legend(['train_loss', 'train_acc', 'train_F1', 'train_precision', 'train_recall', 'val_loss','val_acc','val_F1','val_precision','val_recall'], \n",
    "           loc='lower right')\n",
    "#plt.annotate(\"\", xy = (17, 0.1937311738729477), xytext = (0,0), arrowprops=dict(arrowstyle=\"->\"), color = 'black', shape = 'left')\n",
    "#plt.xlim(right = 800, left = 0)\n",
    "plt.rcParams['axes.facecolor'] = 'white'\n",
    "plt.show()"
   ]
  },
  {
   "cell_type": "code",
   "execution_count": 60,
   "id": "c4a0fb2e-7c6a-40ab-9c37-cc3f0aa6a285",
   "metadata": {},
   "outputs": [],
   "source": [
    "pd.DataFrame(history.history).to_csv('siamese.total.acc.csv')"
   ]
  },
  {
   "cell_type": "code",
   "execution_count": 52,
   "id": "ff26f701-0656-44a4-8107-27849efc38ce",
   "metadata": {},
   "outputs": [],
   "source": [
    "\n",
    "# evaluate the model\n",
    "loss, accuracy, f1_score, precision, recall = Classifier_model.evaluate(X_test_trm,Y_test_onehot, verbose=0)"
   ]
  },
  {
   "cell_type": "code",
   "execution_count": 83,
   "id": "a09ce739-8e64-4b55-9e45-8f1855a8b371",
   "metadata": {},
   "outputs": [],
   "source": [
    "def gini(x):\n",
    "    mad = np.abs(np.subtract.outer(x, x)).mean()\n",
    "    rmad = mad/np.mean(x)\n",
    "    g = 0.5 * rmad\n",
    "    return g\n",
    "\n",
    "def classification(x):\n",
    "    temp = base_model.predict(x)\n",
    "    temp = Classifier_model.predict(temp)\n",
    "    return np.argmax(temp)"
   ]
  },
  {
   "cell_type": "code",
   "execution_count": 84,
   "id": "13b68ca8-0506-4de2-9b6f-6bb64b6a86e1",
   "metadata": {},
   "outputs": [
    {
     "data": {
      "text/plain": [
       "<keras.engine.sequential.Sequential at 0x28f244ddeb0>"
      ]
     },
     "execution_count": 84,
     "metadata": {},
     "output_type": "execute_result"
    }
   ],
   "source": [
    "base_model"
   ]
  },
  {
   "cell_type": "code",
   "execution_count": 88,
   "id": "ab9bafe4-700b-4e09-b7fa-da8de240ac3f",
   "metadata": {},
   "outputs": [
    {
     "name": "stdout",
     "output_type": "stream",
     "text": [
      "51/51 [==============================] - 0s 7ms/step\n",
      "51/51 [==============================] - 0s 2ms/step\n"
     ]
    },
    {
     "data": {
      "text/plain": [
       "(1607, 3)"
      ]
     },
     "execution_count": 88,
     "metadata": {},
     "output_type": "execute_result"
    }
   ],
   "source": [
    "predict_trm = base_model.predict(predict_df).reshape(-1,6)\n",
    "predict_out = Classifier_model.predict(predict_trm)\n",
    "predict_out.shape"
   ]
  },
  {
   "cell_type": "code",
   "execution_count": 98,
   "id": "5c93a55a-868a-44aa-8041-2c93018534f0",
   "metadata": {},
   "outputs": [
    {
     "data": {
      "text/plain": [
       "array([[0.45167452, 0.51704377, 0.03128171],\n",
       "       [0.676784  , 0.29118374, 0.03203232],\n",
       "       [0.28584212, 0.68842727, 0.02573058],\n",
       "       ...,\n",
       "       [0.5747589 , 0.39263254, 0.03260855],\n",
       "       [0.2827629 , 0.69164884, 0.02558828],\n",
       "       [0.3181361 , 0.6547479 , 0.027116  ]], dtype=float32)"
      ]
     },
     "execution_count": 98,
     "metadata": {},
     "output_type": "execute_result"
    }
   ],
   "source": [
    "predict_out"
   ]
  },
  {
   "cell_type": "code",
   "execution_count": 104,
   "id": "e09b57b9-1296-44f1-ac6f-4bea6c43462c",
   "metadata": {},
   "outputs": [
    {
     "data": {
      "text/html": [
       "<div>\n",
       "<style scoped>\n",
       "    .dataframe tbody tr th:only-of-type {\n",
       "        vertical-align: middle;\n",
       "    }\n",
       "\n",
       "    .dataframe tbody tr th {\n",
       "        vertical-align: top;\n",
       "    }\n",
       "\n",
       "    .dataframe thead th {\n",
       "        text-align: right;\n",
       "    }\n",
       "</style>\n",
       "<table border=\"1\" class=\"dataframe\">\n",
       "  <thead>\n",
       "    <tr style=\"text-align: right;\">\n",
       "      <th></th>\n",
       "      <th>LYZ</th>\n",
       "      <th>GNB4</th>\n",
       "      <th>LOXL2</th>\n",
       "      <th>COL6A2</th>\n",
       "      <th>ADAMTS1</th>\n",
       "      <th>SDC2</th>\n",
       "      <th>response</th>\n",
       "      <th>predict</th>\n",
       "      <th>gini_idx</th>\n",
       "    </tr>\n",
       "  </thead>\n",
       "  <tbody>\n",
       "    <tr>\n",
       "      <th>TCGA-13-1489</th>\n",
       "      <td>-0.356289</td>\n",
       "      <td>-0.823891</td>\n",
       "      <td>-0.341182</td>\n",
       "      <td>-0.106096</td>\n",
       "      <td>0.169498</td>\n",
       "      <td>-0.367905</td>\n",
       "      <td>responders</td>\n",
       "      <td>0.517044</td>\n",
       "      <td>0.323841</td>\n",
       "    </tr>\n",
       "    <tr>\n",
       "      <th>TCGA-61-2101</th>\n",
       "      <td>-0.291836</td>\n",
       "      <td>-0.723453</td>\n",
       "      <td>-0.204935</td>\n",
       "      <td>3.424103</td>\n",
       "      <td>2.014938</td>\n",
       "      <td>-0.205987</td>\n",
       "      <td>non_responders</td>\n",
       "      <td>0.676784</td>\n",
       "      <td>0.429834</td>\n",
       "    </tr>\n",
       "    <tr>\n",
       "      <th>TCGA-61-1900</th>\n",
       "      <td>-0.300427</td>\n",
       "      <td>-0.618065</td>\n",
       "      <td>-0.306860</td>\n",
       "      <td>0.550342</td>\n",
       "      <td>-0.206350</td>\n",
       "      <td>-0.023738</td>\n",
       "      <td>responders</td>\n",
       "      <td>0.688427</td>\n",
       "      <td>0.441798</td>\n",
       "    </tr>\n",
       "    <tr>\n",
       "      <th>TCGA-29-1784</th>\n",
       "      <td>0.426638</td>\n",
       "      <td>-0.668139</td>\n",
       "      <td>-0.339166</td>\n",
       "      <td>-0.173429</td>\n",
       "      <td>-0.276287</td>\n",
       "      <td>-0.295357</td>\n",
       "      <td>responders</td>\n",
       "      <td>0.662006</td>\n",
       "      <td>0.423471</td>\n",
       "    </tr>\n",
       "    <tr>\n",
       "      <th>TCGA-24-1470</th>\n",
       "      <td>-0.205197</td>\n",
       "      <td>-0.347901</td>\n",
       "      <td>-0.309805</td>\n",
       "      <td>0.187724</td>\n",
       "      <td>0.312629</td>\n",
       "      <td>-0.461610</td>\n",
       "      <td>responders</td>\n",
       "      <td>0.676065</td>\n",
       "      <td>0.433219</td>\n",
       "    </tr>\n",
       "    <tr>\n",
       "      <th>...</th>\n",
       "      <td>...</td>\n",
       "      <td>...</td>\n",
       "      <td>...</td>\n",
       "      <td>...</td>\n",
       "      <td>...</td>\n",
       "      <td>...</td>\n",
       "      <td>...</td>\n",
       "      <td>...</td>\n",
       "      <td>...</td>\n",
       "    </tr>\n",
       "    <tr>\n",
       "      <th>TCGA-E2-A158</th>\n",
       "      <td>-0.319750</td>\n",
       "      <td>-0.487932</td>\n",
       "      <td>-0.321835</td>\n",
       "      <td>1.837564</td>\n",
       "      <td>1.270878</td>\n",
       "      <td>0.492873</td>\n",
       "      <td>non_responders</td>\n",
       "      <td>0.643679</td>\n",
       "      <td>0.407427</td>\n",
       "    </tr>\n",
       "    <tr>\n",
       "      <th>TCGA-A2-A25F</th>\n",
       "      <td>6.204171</td>\n",
       "      <td>1.923458</td>\n",
       "      <td>-0.253417</td>\n",
       "      <td>1.927253</td>\n",
       "      <td>0.258879</td>\n",
       "      <td>0.412791</td>\n",
       "      <td>non_responders</td>\n",
       "      <td>0.705587</td>\n",
       "      <td>0.449286</td>\n",
       "    </tr>\n",
       "    <tr>\n",
       "      <th>TCGA-AC-A23G</th>\n",
       "      <td>-0.263129</td>\n",
       "      <td>-0.550524</td>\n",
       "      <td>-0.181080</td>\n",
       "      <td>3.028701</td>\n",
       "      <td>-0.031762</td>\n",
       "      <td>0.003919</td>\n",
       "      <td>non_responders</td>\n",
       "      <td>0.574759</td>\n",
       "      <td>0.361434</td>\n",
       "    </tr>\n",
       "    <tr>\n",
       "      <th>TCGA-E2-A15D</th>\n",
       "      <td>-0.283210</td>\n",
       "      <td>0.653570</td>\n",
       "      <td>-0.287830</td>\n",
       "      <td>0.716925</td>\n",
       "      <td>-0.151581</td>\n",
       "      <td>-0.106916</td>\n",
       "      <td>responders</td>\n",
       "      <td>0.691649</td>\n",
       "      <td>0.444040</td>\n",
       "    </tr>\n",
       "    <tr>\n",
       "      <th>TCGA-OL-A5D7</th>\n",
       "      <td>-0.242047</td>\n",
       "      <td>-0.588079</td>\n",
       "      <td>-0.330693</td>\n",
       "      <td>0.498301</td>\n",
       "      <td>-0.284940</td>\n",
       "      <td>-0.297318</td>\n",
       "      <td>responders</td>\n",
       "      <td>0.654748</td>\n",
       "      <td>0.418421</td>\n",
       "    </tr>\n",
       "  </tbody>\n",
       "</table>\n",
       "<p>1530 rows × 9 columns</p>\n",
       "</div>"
      ],
      "text/plain": [
       "                   LYZ      GNB4     LOXL2    COL6A2   ADAMTS1      SDC2  \\\n",
       "TCGA-13-1489 -0.356289 -0.823891 -0.341182 -0.106096  0.169498 -0.367905   \n",
       "TCGA-61-2101 -0.291836 -0.723453 -0.204935  3.424103  2.014938 -0.205987   \n",
       "TCGA-61-1900 -0.300427 -0.618065 -0.306860  0.550342 -0.206350 -0.023738   \n",
       "TCGA-29-1784  0.426638 -0.668139 -0.339166 -0.173429 -0.276287 -0.295357   \n",
       "TCGA-24-1470 -0.205197 -0.347901 -0.309805  0.187724  0.312629 -0.461610   \n",
       "...                ...       ...       ...       ...       ...       ...   \n",
       "TCGA-E2-A158 -0.319750 -0.487932 -0.321835  1.837564  1.270878  0.492873   \n",
       "TCGA-A2-A25F  6.204171  1.923458 -0.253417  1.927253  0.258879  0.412791   \n",
       "TCGA-AC-A23G -0.263129 -0.550524 -0.181080  3.028701 -0.031762  0.003919   \n",
       "TCGA-E2-A15D -0.283210  0.653570 -0.287830  0.716925 -0.151581 -0.106916   \n",
       "TCGA-OL-A5D7 -0.242047 -0.588079 -0.330693  0.498301 -0.284940 -0.297318   \n",
       "\n",
       "                    response   predict  gini_idx  \n",
       "TCGA-13-1489      responders  0.517044  0.323841  \n",
       "TCGA-61-2101  non_responders  0.676784  0.429834  \n",
       "TCGA-61-1900      responders  0.688427  0.441798  \n",
       "TCGA-29-1784      responders  0.662006  0.423471  \n",
       "TCGA-24-1470      responders  0.676065  0.433219  \n",
       "...                      ...       ...       ...  \n",
       "TCGA-E2-A158  non_responders  0.643679  0.407427  \n",
       "TCGA-A2-A25F  non_responders  0.705587  0.449286  \n",
       "TCGA-AC-A23G  non_responders  0.574759  0.361434  \n",
       "TCGA-E2-A15D      responders  0.691649  0.444040  \n",
       "TCGA-OL-A5D7      responders  0.654748  0.418421  \n",
       "\n",
       "[1530 rows x 9 columns]"
      ]
     },
     "execution_count": 104,
     "metadata": {},
     "output_type": "execute_result"
    }
   ],
   "source": [
    "#1=[0,1,0], -1=[0,0,1], 0=[1,0,0]\n",
    "def onehot_convert(x):\n",
    "    val = max(x)\n",
    "    if val == x[0] and abs(val) > 0.5:\n",
    "        return val, 'non_responders'\n",
    "    elif val == x[1] and abs(val) > 0.5:\n",
    "        return val, 'responders'\n",
    "    else:\n",
    "        return val, 'others'\n",
    "response_list = []\n",
    "predict_list = []\n",
    "for i in predict_out:\n",
    "    val, flag = onehot_convert(i)\n",
    "    response_list.append(flag)\n",
    "    predict_list.append(val)\n",
    "predict_df['response'] = response_list\n",
    "predict_df['predict'] = predict_list\n",
    "predict_df[predict_df['response'] != 'others']"
   ]
  },
  {
   "cell_type": "code",
   "execution_count": 105,
   "id": "483de7dc-2776-4114-a0ef-d82ebdbad880",
   "metadata": {},
   "outputs": [
    {
     "data": {
      "text/plain": [
       "0.4066089689731598"
      ]
     },
     "execution_count": 105,
     "metadata": {},
     "output_type": "execute_result"
    }
   ],
   "source": [
    "gini(predict_out)"
   ]
  },
  {
   "cell_type": "code",
   "execution_count": 106,
   "id": "85e72d8e-bcc2-433e-bf11-033cbb917f6b",
   "metadata": {},
   "outputs": [],
   "source": [
    "classes = []\n",
    "for i in range(predict_out.shape[0]):\n",
    "    classes.append(gini(predict_out[[i]]))"
   ]
  },
  {
   "cell_type": "code",
   "execution_count": 107,
   "id": "84c832e7-4d9c-4dec-9547-aae39ea5c646",
   "metadata": {},
   "outputs": [],
   "source": [
    "predict_df['gini_idx'] = classes\n",
    "predict_df.to_csv('Olaparib.MOFA.exp_markers.siamese.res.predict.csv')"
   ]
  }
 ],
 "metadata": {
  "kernelspec": {
   "display_name": "Python 3 (ipykernel)",
   "language": "python",
   "name": "python3"
  },
  "language_info": {
   "codemirror_mode": {
    "name": "ipython",
    "version": 3
   },
   "file_extension": ".py",
   "mimetype": "text/x-python",
   "name": "python",
   "nbconvert_exporter": "python",
   "pygments_lexer": "ipython3",
   "version": "3.9.7"
  }
 },
 "nbformat": 4,
 "nbformat_minor": 5
}
