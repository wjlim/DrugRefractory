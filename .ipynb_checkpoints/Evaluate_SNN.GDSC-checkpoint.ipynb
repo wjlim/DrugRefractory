{
 "cells": [
  {
   "cell_type": "code",
   "execution_count": 1,
   "id": "644cc81a-b4d3-4337-ae3a-1ddc17a7feab",
   "metadata": {},
   "outputs": [],
   "source": [
    "import keras\n",
    "from keras.models import Model, Sequential\n",
    "from tensorflow.keras.optimizers import Adam\n",
    "from keras.layers import Dense, Dropout, Flatten, Convolution2D, MaxPooling2D,ZeroPadding2D\n",
    "from keras.layers import Input, Lambda\n",
    "from keras.utils import np_utils\n",
    "from keras.datasets import mnist\n",
    "from keras import backend as K\n",
    "import numpy as np\n",
    "import matplotlib.pyplot as plt\n",
    "from sklearn.manifold import TSNE\n",
    "import matplotlib.pyplot as plt\n",
    "import pandas as pd\n",
    "import tensorflow_addons as tfa\n",
    "from itertools import combinations\n",
    "import tensorflow as tf\n",
    "#tf.device('/gpu:0')\n",
    "from tqdm.keras import TqdmCallback\n",
    "import warnings\n",
    "warnings.filterwarnings(action='ignore')\n",
    "import seaborn as sns; sns.set()\n",
    "import matplotlib.pyplot as plt\n",
    "import matplotlib.patheffects as PathEffects\n",
    "np.random.seed(0)\n",
    "import sklearn.svm as svm\n",
    "import sklearn.metrics as mt\n",
    "from sklearn.model_selection import cross_val_score, cross_validate, train_test_split\n",
    "from sklearn.metrics import classification_report\n",
    "from sklearn.ensemble import RandomForestClassifier\n",
    "from sklearn.preprocessing import MinMaxScaler"
   ]
  },
  {
   "cell_type": "code",
   "execution_count": 2,
   "id": "74921437-1a2a-43be-a71e-a6c137e03559",
   "metadata": {},
   "outputs": [
    {
     "data": {
      "text/html": [
       "<div>\n",
       "<style scoped>\n",
       "    .dataframe tbody tr th:only-of-type {\n",
       "        vertical-align: middle;\n",
       "    }\n",
       "\n",
       "    .dataframe tbody tr th {\n",
       "        vertical-align: top;\n",
       "    }\n",
       "\n",
       "    .dataframe thead th {\n",
       "        text-align: right;\n",
       "    }\n",
       "</style>\n",
       "<table border=\"1\" class=\"dataframe\">\n",
       "  <thead>\n",
       "    <tr style=\"text-align: right;\">\n",
       "      <th></th>\n",
       "      <th>feature</th>\n",
       "      <th>factor</th>\n",
       "      <th>value</th>\n",
       "      <th>view</th>\n",
       "    </tr>\n",
       "  </thead>\n",
       "  <tbody>\n",
       "    <tr>\n",
       "      <th>1</th>\n",
       "      <td>SCYL3_mRNA</td>\n",
       "      <td>Factor1</td>\n",
       "      <td>0.114798</td>\n",
       "      <td>mRNA</td>\n",
       "    </tr>\n",
       "    <tr>\n",
       "      <th>2</th>\n",
       "      <td>RAD52</td>\n",
       "      <td>Factor1</td>\n",
       "      <td>0.000429</td>\n",
       "      <td>mRNA</td>\n",
       "    </tr>\n",
       "    <tr>\n",
       "      <th>3</th>\n",
       "      <td>BAD</td>\n",
       "      <td>Factor1</td>\n",
       "      <td>0.017086</td>\n",
       "      <td>mRNA</td>\n",
       "    </tr>\n",
       "    <tr>\n",
       "      <th>4</th>\n",
       "      <td>CD99</td>\n",
       "      <td>Factor1</td>\n",
       "      <td>0.068046</td>\n",
       "      <td>mRNA</td>\n",
       "    </tr>\n",
       "    <tr>\n",
       "      <th>5</th>\n",
       "      <td>HS3ST1</td>\n",
       "      <td>Factor1</td>\n",
       "      <td>0.461980</td>\n",
       "      <td>mRNA</td>\n",
       "    </tr>\n",
       "    <tr>\n",
       "      <th>...</th>\n",
       "      <td>...</td>\n",
       "      <td>...</td>\n",
       "      <td>...</td>\n",
       "      <td>...</td>\n",
       "    </tr>\n",
       "    <tr>\n",
       "      <th>3291</th>\n",
       "      <td>LINC02246</td>\n",
       "      <td>Factor1</td>\n",
       "      <td>0.000029</td>\n",
       "      <td>mRNA</td>\n",
       "    </tr>\n",
       "    <tr>\n",
       "      <th>3292</th>\n",
       "      <td>C13orf46</td>\n",
       "      <td>Factor1</td>\n",
       "      <td>0.006688</td>\n",
       "      <td>mRNA</td>\n",
       "    </tr>\n",
       "    <tr>\n",
       "      <th>3293</th>\n",
       "      <td>FAM238C</td>\n",
       "      <td>Factor1</td>\n",
       "      <td>0.095229</td>\n",
       "      <td>mRNA</td>\n",
       "    </tr>\n",
       "    <tr>\n",
       "      <th>3294</th>\n",
       "      <td>CDC42.AS1</td>\n",
       "      <td>Factor1</td>\n",
       "      <td>0.003399</td>\n",
       "      <td>mRNA</td>\n",
       "    </tr>\n",
       "    <tr>\n",
       "      <th>3295</th>\n",
       "      <td>GET1.SH3BGR</td>\n",
       "      <td>Factor1</td>\n",
       "      <td>0.105090</td>\n",
       "      <td>mRNA</td>\n",
       "    </tr>\n",
       "  </tbody>\n",
       "</table>\n",
       "<p>3295 rows × 4 columns</p>\n",
       "</div>"
      ],
      "text/plain": [
       "          feature   factor     value  view\n",
       "1      SCYL3_mRNA  Factor1  0.114798  mRNA\n",
       "2           RAD52  Factor1  0.000429  mRNA\n",
       "3             BAD  Factor1  0.017086  mRNA\n",
       "4            CD99  Factor1  0.068046  mRNA\n",
       "5          HS3ST1  Factor1  0.461980  mRNA\n",
       "...           ...      ...       ...   ...\n",
       "3291    LINC02246  Factor1  0.000029  mRNA\n",
       "3292     C13orf46  Factor1  0.006688  mRNA\n",
       "3293      FAM238C  Factor1  0.095229  mRNA\n",
       "3294    CDC42.AS1  Factor1  0.003399  mRNA\n",
       "3295  GET1.SH3BGR  Factor1  0.105090  mRNA\n",
       "\n",
       "[3295 rows x 4 columns]"
      ]
     },
     "execution_count": 2,
     "metadata": {},
     "output_type": "execute_result"
    }
   ],
   "source": [
    "marker_df = pd.read_csv('./MOFA/Olaparib.refractory.MOFA.exp_factor.weights.csv', index_col = 0)\n",
    "marker_df"
   ]
  },
  {
   "cell_type": "code",
   "execution_count": 3,
   "id": "58d54d6c-d34d-4fa8-9b53-da6325455f67",
   "metadata": {},
   "outputs": [],
   "source": [
    "def recall_m(y_true, y_pred):\n",
    "    true_positives = K.sum(K.round(K.clip(y_true * y_pred, 0, 1)))\n",
    "    possible_positives = K.sum(K.round(K.clip(y_true, 0, 1)))\n",
    "    recall = true_positives / (possible_positives + K.epsilon())\n",
    "    return recall\n",
    "\n",
    "def precision_m(y_true, y_pred):\n",
    "    true_positives = K.sum(K.round(K.clip(y_true * y_pred, 0, 1)))\n",
    "    predicted_positives = K.sum(K.round(K.clip(y_pred, 0, 1)))\n",
    "    precision = true_positives / (predicted_positives + K.epsilon())\n",
    "    return precision\n",
    "\n",
    "def f1_m(y_true, y_pred):\n",
    "    precision = precision_m(y_true, y_pred)\n",
    "    recall = recall_m(y_true, y_pred)\n",
    "    return 2*((precision*recall)/(precision+recall+K.epsilon()))\n"
   ]
  },
  {
   "cell_type": "code",
   "execution_count": 4,
   "id": "009a477d-c260-4301-89f0-3a203668f390",
   "metadata": {},
   "outputs": [],
   "source": [
    "def scatter(x, labels, subtitle=None):\n",
    "    # Create a scatter plot of all the \n",
    "    # the embeddings of the model.\n",
    "    # We choose a color palette with seaborn.\n",
    "    palette = np.array(sns.color_palette(\"hls\", 3))\n",
    "    # We create a scatter plot.\n",
    "    f = plt.figure(figsize=(8, 8))\n",
    "    ax = plt.subplot(aspect='equal')\n",
    "    sc = ax.scatter(x[:,0], x[:,1], lw=0,alpha = 0.5, s=40,\n",
    "                    c=palette[labels.astype(np.int)] )\n",
    "    plt.xlim(-25, 25)\n",
    "    plt.ylim(-25, 25)\n",
    "    plt.legend( loc='upper right')\n",
    "    ax.axis('off')\n",
    "    ax.axis('tight')"
   ]
  },
  {
   "cell_type": "code",
   "execution_count": 5,
   "id": "22808233-8545-4a87-8ae0-b183debac4a4",
   "metadata": {},
   "outputs": [],
   "source": [
    "# exp_norm=pd.read_table('GDSC.norm_gex.csv',sep=',',header=0,index_col=[0])\n",
    "# cell_anno=pd.read_excel('Cell_Lines_Details.xlsx',skipfooter=1)\n",
    "# fil=(~pd.isnull(cell_anno['Microsatellite \\ninstability Status (MSI)'])) &\\\n",
    "#     (~pd.isnull(cell_anno['Cancer Type\\n(matching TCGA label)'])) &\\\n",
    "#     (cell_anno['Cancer Type\\n(matching TCGA label)']!='UNABLE TO CLASSIFY')\n",
    "# cell_anno=cell_anno[fil]\n",
    "# cell_anno.loc[:,'COSMIC identifier']=cell_anno['COSMIC identifier'].astype(str)\n",
    "# cosmics=list(set(cell_anno['COSMIC identifier'])&set(exp_norm.columns))\n",
    "# exp_norm=exp_norm[cosmics]\n",
    "# exp_norm = exp_norm.dropna()\n",
    "# exp_norm.index = exp_norm.index.astype(str)\n",
    "# res_exp = exp_norm.loc[:,exp_norm.columns.map(lambda x:x in res_id)]\n",
    "# nres_exp = exp_norm.loc[:,exp_norm.columns.map(lambda x:x in nres_id)]\n",
    "# res_exp = res_exp.loc[biomarkers,:]\n",
    "# nres_exp = nres_exp.loc[biomarkers,:]\n",
    "# res_exp = res_exp.T\n",
    "# nres_exp = nres_exp.T\n",
    "# res_exp['response'] = 1\n",
    "# nres_exp['response'] = 0\n",
    "\n",
    "# state = 10\n",
    "# GDSC = pd.concat([res_exp, nres_exp], axis = 0)\n",
    "# min_n = min([nres_exp.shape[0],res_exp.shape[0]])\n",
    "# GDSC = pd.concat([GDSC[GDSC['response'] == 0],\n",
    "#                     GDSC[GDSC['response'] == 1].sample(n = min_n, random_state = state)])\n",
    "# label = GDSC.pop('response')\n",
    "\n",
    "# GDSC.to_csv('GDSC.select.marker.norm.exp.csv')"
   ]
  },
  {
   "cell_type": "code",
   "execution_count": 28,
   "id": "470ff614-03fd-48c4-bb4d-dad69b4c04b5",
   "metadata": {},
   "outputs": [],
   "source": [
    "GDSC = pd.read_csv('./GDSC/GDSC.select.marker.norm.exp.csv', index_col = 0)\n",
    "GDSC_dr = pd.read_csv('./GDSC/GDSC.olaparib.drug_sensitives.anova.csv')\n",
    "#GDSC_dr"
   ]
  },
  {
   "cell_type": "code",
   "execution_count": 8,
   "id": "09c49f2d-6071-4a01-9d51-ab76ba09034c",
   "metadata": {},
   "outputs": [],
   "source": [
    "cutoff = np.log(1.5)"
   ]
  },
  {
   "cell_type": "code",
   "execution_count": 9,
   "id": "277458dc-8712-4f5e-8346-12b62abaea4c",
   "metadata": {},
   "outputs": [],
   "source": [
    "cutoff_range = [0.01, 0.05, 0.08, 0.1, 0.5, 0.6, 0.7, 0.8, 2, 3, 4, 5, 6, 7, 8, 9, 10, 12, 14, 16, 18, 20, 30, 40, 50, 75, 100, 150, 200, 300, 350, 450, 500, 600, 700, 800, 900, 1000, 2500, 3000]"
   ]
  },
  {
   "cell_type": "code",
   "execution_count": null,
   "id": "f39463ab-e968-4664-ab60-c9f1e408bec0",
   "metadata": {},
   "outputs": [],
   "source": [
    "for i in cutoff_range:\n",
    "    print(i, len(set(GDSC_dr.loc[GDSC_dr['LN_IC50']< i, 'COSMIC_ID'])))"
   ]
  },
  {
   "cell_type": "code",
   "execution_count": 11,
   "id": "fb48ba99-8ffc-45dc-8a44-79a437e9122f",
   "metadata": {},
   "outputs": [
    {
     "name": "stdout",
     "output_type": "stream",
     "text": [
      "130\n",
      "124\n"
     ]
    }
   ],
   "source": [
    "#nres_id = list(set(GDSC_dr.loc[(GDSC_dr['TCGA_DESC'] == 'OV') & (GDSC_dr['LN_IC50'] > 3), 'COSMIC_ID'].astype(str)))\n",
    "nres_id = list(set(GDSC_dr.loc[GDSC_dr['LN_IC50'] > 5.5, 'COSMIC_ID'].astype(str)))\n",
    "res_id = list(set(GDSC_dr.loc[GDSC_dr['LN_IC50']<2, 'COSMIC_ID'].astype(str)))\n",
    "print(len(nres_id))\n",
    "print(len(res_id))"
   ]
  },
  {
   "cell_type": "code",
   "execution_count": 12,
   "id": "0469420d-e4f5-475b-abbc-766cdf0a03b2",
   "metadata": {},
   "outputs": [
    {
     "data": {
      "text/plain": [
       "<AxesSubplot:>"
      ]
     },
     "execution_count": 12,
     "metadata": {},
     "output_type": "execute_result"
    },
    {
     "data": {
      "image/png": "[encoded data removed]",
      "text/plain": [
       "<Figure size 432x288 with 1 Axes>"
      ]
     },
     "metadata": {},
     "output_type": "display_data"
    }
   ],
   "source": [
    "GDSC_dr['LN_IC50'].plot.box()"
   ]
  },
  {
   "cell_type": "code",
   "execution_count": 13,
   "id": "73cb19be-8a21-4643-8b40-81909421e04f",
   "metadata": {},
   "outputs": [],
   "source": [
    "# biomarkers = ['LYZ', 'LOXL2', 'SDC2', 'ADAMTS1', 'COL6A2', 'GNB4']\n",
    "cutoff = 0.8\n",
    "biomarkers = marker_df.loc[marker_df['value'] > cutoff, 'feature']"
   ]
  },
  {
   "cell_type": "code",
   "execution_count": 24,
   "id": "a074daec-d803-477e-8769-b8f9a73b51a4",
   "metadata": {},
   "outputs": [],
   "source": [
    "scaler = MinMaxScaler()\n",
    "scaler.fit(GDSC)\n",
    "scaled_df = pd.DataFrame(scaler.transform(GDSC))\n",
    "scaled_df.index = GDSC.index\n",
    "scaled_df.columns = GDSC.columns\n",
    "scaled_df['response'] = label\n"
   ]
  },
  {
   "cell_type": "code",
   "execution_count": 12,
   "id": "a383d298-2b8f-4659-b961-c07606355a38",
   "metadata": {},
   "outputs": [
    {
     "name": "stdout",
     "output_type": "stream",
     "text": [
      "WARNING:tensorflow:No training configuration found in the save file, so the model was *not* compiled. Compile it manually.\n"
     ]
    }
   ],
   "source": [
    "base_model = keras.models.load_model('./checkpoint/base_model.hdf5')\n",
    "#base_model = keras.models.load_model('./checkpoint/base_model.v.2.0.hdf5')"
   ]
  },
  {
   "cell_type": "code",
   "execution_count": 21,
   "id": "45f13495-4d8c-40c0-a815-72ff9abbf59f",
   "metadata": {},
   "outputs": [
    {
     "name": "stdout",
     "output_type": "stream",
     "text": [
      "Model: \"model\"\n",
      "_________________________________________________________________\n",
      " Layer (type)                Output Shape              Param #   \n",
      "=================================================================\n",
      " input_1 (InputLayer)        [(None, 6)]               0         \n",
      "                                                                 \n",
      " dense (Dense)               (None, 12)                84        \n",
      "                                                                 \n",
      " dropout (Dropout)           (None, 12)                0         \n",
      "                                                                 \n",
      " dense_1 (Dense)             (None, 12)                156       \n",
      "                                                                 \n",
      " dropout_1 (Dropout)         (None, 12)                0         \n",
      "                                                                 \n",
      " dense_2 (Dense)             (None, 3)                 39        \n",
      "                                                                 \n",
      "=================================================================\n",
      "Total params: 279\n",
      "Trainable params: 279\n",
      "Non-trainable params: 0\n",
      "_________________________________________________________________\n"
     ]
    }
   ],
   "source": [
    "Classifier_input = Input((6,))\n",
    "Classifier_layer1 = Dense(12, activation='softmax')(Classifier_input)\n",
    "Dropout1 = Dropout(0.2)(Classifier_layer1)\n",
    "Classifier_layer2 = Dense(12, activation='softmax')(Dropout1)\n",
    "Dropout2 = Dropout(0.2)(Classifier_layer2)\n",
    "Classifier_output = Dense(3, activation='softmax')(Dropout2)\n",
    "Classifier_model = Model(Classifier_input, Classifier_output)\n",
    "Classifier_model.summary()\n",
    "Classifier_model.compile(optimizer='adam',loss='categorical_crossentropy',\n",
    "                        metrics=['acc',f1_m,precision_m, recall_m])"
   ]
  },
  {
   "cell_type": "code",
   "execution_count": 22,
   "id": "2d967abd-57fd-478e-8ab9-b2961206a3dd",
   "metadata": {},
   "outputs": [],
   "source": [
    "Classifier_model.load_weights('./checkpoint/bk.CLmodel.hdf5')"
   ]
  },
  {
   "cell_type": "code",
   "execution_count": 23,
   "id": "b6cb9d77-a4bc-4b15-8370-c3d5cb64eedd",
   "metadata": {},
   "outputs": [
    {
     "name": "stdout",
     "output_type": "stream",
     "text": [
      "124 130\n"
     ]
    }
   ],
   "source": [
    "print(len(res_id), len(nres_id))"
   ]
  },
  {
   "cell_type": "code",
   "execution_count": 130,
   "id": "ecf56146-71cf-413a-929b-a698d8d9c4e1",
   "metadata": {},
   "outputs": [],
   "source": [
    "Y_train_onehot = np_utils.to_categorical(Y_train, 3)\n",
    "Y_test_onehot = np_utils.to_categorical(Y_test, 3)"
   ]
  },
  {
   "cell_type": "code",
   "execution_count": 160,
   "id": "b937bdc4-161a-4650-8569-34830815c76a",
   "metadata": {},
   "outputs": [
    {
     "name": "stdout",
     "output_type": "stream",
     "text": [
      "5/5 [==============================] - 0s 11ms/step\n"
     ]
    },
    {
     "data": {
      "image/png": "[encoded data removed]",
      "text/plain": [
       "<Figure size 720x432 with 1 Axes>"
      ]
     },
     "metadata": {},
     "output_type": "display_data"
    }
   ],
   "source": [
    "width = 10\n",
    "height = 6\n",
    "plt.rcParams['figure.figsize'] = [width, height]\n",
    "\n",
    "scaled_df = GDSC\n",
    "my_label = scaled_df.pop('response')\n",
    "df_trm = base_model.predict(scaled_df).reshape(-1,6)\n",
    "tsne_embeds = tsne.fit_transform(df_trm)\n",
    "df = pd.DataFrame(tsne_embeds)\n",
    "df = pd.concat([df, pd.DataFrame(list(my_label))], axis = 1)\n",
    "df.columns = ['X','Y','response']\n",
    "df1 = df[df['response'] == 1]\n",
    "df2 = df[df['response'] == 0]\n",
    "ax = df1.plot(x = 'X', y = 'Y', kind = 'scatter', c = 'r', label = 'sensitives')\n",
    "df2.plot(x = 'X', y = 'Y', kind = 'scatter', ax = ax, c = 'b', label = 'non_sensitives')\n",
    "plt.show()\n",
    "my_label_oh = np_utils.to_categorical(my_label,3)"
   ]
  },
  {
   "cell_type": "code",
   "execution_count": 135,
   "id": "5ed9e812-36cd-4dd7-a598-106379577573",
   "metadata": {},
   "outputs": [
    {
     "name": "stdout",
     "output_type": "stream",
     "text": [
      "5/5 [==============================] - 0s 3ms/step\n",
      "0.7285747528076172 0.6265822649002075 0.6150910258293152 0.6216421127319336 0.6087499856948853\n"
     ]
    }
   ],
   "source": [
    "loss, accuracy, f1_score, precision, recall = Classifier_model.evaluate(df_trm,my_label_oh, verbose=0)\n",
    "predict_l = np.argmax(Classifier_model.predict(df_trm), axis = 1)\n",
    "print(loss,accuracy,f1_score,precision,recall)"
   ]
  },
  {
   "cell_type": "code",
   "execution_count": 136,
   "id": "3eec5171-0201-4d8b-a86c-b7c00ef41ccc",
   "metadata": {},
   "outputs": [
    {
     "data": {
      "text/html": [
       "<div>\n",
       "<style scoped>\n",
       "    .dataframe tbody tr th:only-of-type {\n",
       "        vertical-align: middle;\n",
       "    }\n",
       "\n",
       "    .dataframe tbody tr th {\n",
       "        vertical-align: top;\n",
       "    }\n",
       "\n",
       "    .dataframe thead th {\n",
       "        text-align: right;\n",
       "    }\n",
       "</style>\n",
       "<table border=\"1\" class=\"dataframe\">\n",
       "  <thead>\n",
       "    <tr style=\"text-align: right;\">\n",
       "      <th></th>\n",
       "      <th>LYZ</th>\n",
       "      <th>LOXL2</th>\n",
       "      <th>SDC2</th>\n",
       "      <th>ADAMTS1</th>\n",
       "      <th>COL6A2</th>\n",
       "      <th>GNB4</th>\n",
       "      <th>response</th>\n",
       "    </tr>\n",
       "  </thead>\n",
       "  <tbody>\n",
       "    <tr>\n",
       "      <th>906805</th>\n",
       "      <td>4.809705</td>\n",
       "      <td>-0.499364</td>\n",
       "      <td>0.138463</td>\n",
       "      <td>-1.570378</td>\n",
       "      <td>-0.988332</td>\n",
       "      <td>-1.529934</td>\n",
       "      <td>0</td>\n",
       "    </tr>\n",
       "    <tr>\n",
       "      <th>905941</th>\n",
       "      <td>-1.420621</td>\n",
       "      <td>3.636620</td>\n",
       "      <td>0.214582</td>\n",
       "      <td>0.145331</td>\n",
       "      <td>-0.675377</td>\n",
       "      <td>-0.210664</td>\n",
       "      <td>0</td>\n",
       "    </tr>\n",
       "    <tr>\n",
       "      <th>1240190</th>\n",
       "      <td>-1.409526</td>\n",
       "      <td>-1.602797</td>\n",
       "      <td>-0.819903</td>\n",
       "      <td>-3.123290</td>\n",
       "      <td>-0.750328</td>\n",
       "      <td>-1.085484</td>\n",
       "      <td>0</td>\n",
       "    </tr>\n",
       "    <tr>\n",
       "      <th>909747</th>\n",
       "      <td>9.451614</td>\n",
       "      <td>-1.727284</td>\n",
       "      <td>-3.475406</td>\n",
       "      <td>-2.485358</td>\n",
       "      <td>-1.260040</td>\n",
       "      <td>-1.090944</td>\n",
       "      <td>0</td>\n",
       "    </tr>\n",
       "    <tr>\n",
       "      <th>1240131</th>\n",
       "      <td>-1.387663</td>\n",
       "      <td>1.990050</td>\n",
       "      <td>2.329846</td>\n",
       "      <td>3.137619</td>\n",
       "      <td>0.528497</td>\n",
       "      <td>-0.545203</td>\n",
       "      <td>0</td>\n",
       "    </tr>\n",
       "    <tr>\n",
       "      <th>...</th>\n",
       "      <td>...</td>\n",
       "      <td>...</td>\n",
       "      <td>...</td>\n",
       "      <td>...</td>\n",
       "      <td>...</td>\n",
       "      <td>...</td>\n",
       "      <td>...</td>\n",
       "    </tr>\n",
       "    <tr>\n",
       "      <th>908145</th>\n",
       "      <td>-1.327114</td>\n",
       "      <td>4.319204</td>\n",
       "      <td>5.223385</td>\n",
       "      <td>2.008754</td>\n",
       "      <td>2.638409</td>\n",
       "      <td>0.012667</td>\n",
       "      <td>1</td>\n",
       "    </tr>\n",
       "    <tr>\n",
       "      <th>907042</th>\n",
       "      <td>-1.753640</td>\n",
       "      <td>1.805810</td>\n",
       "      <td>0.259133</td>\n",
       "      <td>2.871714</td>\n",
       "      <td>0.355759</td>\n",
       "      <td>0.340156</td>\n",
       "      <td>1</td>\n",
       "    </tr>\n",
       "    <tr>\n",
       "      <th>1524415</th>\n",
       "      <td>-1.610767</td>\n",
       "      <td>3.516376</td>\n",
       "      <td>3.648058</td>\n",
       "      <td>3.692301</td>\n",
       "      <td>-0.063635</td>\n",
       "      <td>-0.445560</td>\n",
       "      <td>1</td>\n",
       "    </tr>\n",
       "    <tr>\n",
       "      <th>906872</th>\n",
       "      <td>-1.200221</td>\n",
       "      <td>8.732708</td>\n",
       "      <td>3.492161</td>\n",
       "      <td>-0.574619</td>\n",
       "      <td>0.205265</td>\n",
       "      <td>-0.219137</td>\n",
       "      <td>1</td>\n",
       "    </tr>\n",
       "    <tr>\n",
       "      <th>906842</th>\n",
       "      <td>-0.393360</td>\n",
       "      <td>-1.121011</td>\n",
       "      <td>-2.816631</td>\n",
       "      <td>-2.186841</td>\n",
       "      <td>-0.918415</td>\n",
       "      <td>0.830104</td>\n",
       "      <td>1</td>\n",
       "    </tr>\n",
       "  </tbody>\n",
       "</table>\n",
       "<p>187 rows × 7 columns</p>\n",
       "</div>"
      ],
      "text/plain": [
       "              LYZ     LOXL2      SDC2   ADAMTS1    COL6A2      GNB4  response\n",
       "906805   4.809705 -0.499364  0.138463 -1.570378 -0.988332 -1.529934         0\n",
       "905941  -1.420621  3.636620  0.214582  0.145331 -0.675377 -0.210664         0\n",
       "1240190 -1.409526 -1.602797 -0.819903 -3.123290 -0.750328 -1.085484         0\n",
       "909747   9.451614 -1.727284 -3.475406 -2.485358 -1.260040 -1.090944         0\n",
       "1240131 -1.387663  1.990050  2.329846  3.137619  0.528497 -0.545203         0\n",
       "...           ...       ...       ...       ...       ...       ...       ...\n",
       "908145  -1.327114  4.319204  5.223385  2.008754  2.638409  0.012667         1\n",
       "907042  -1.753640  1.805810  0.259133  2.871714  0.355759  0.340156         1\n",
       "1524415 -1.610767  3.516376  3.648058  3.692301 -0.063635 -0.445560         1\n",
       "906872  -1.200221  8.732708  3.492161 -0.574619  0.205265 -0.219137         1\n",
       "906842  -0.393360 -1.121011 -2.816631 -2.186841 -0.918415  0.830104         1\n",
       "\n",
       "[187 rows x 7 columns]"
      ]
     },
     "execution_count": 136,
     "metadata": {},
     "output_type": "execute_result"
    }
   ],
   "source": [
    "pd.concat([GDSC, label], axis = 1)"
   ]
  },
  {
   "cell_type": "code",
   "execution_count": null,
   "id": "a52b6939-35fd-45a3-abfc-31758fc26ac9",
   "metadata": {},
   "outputs": [],
   "source": []
  }
 ],
 "metadata": {
  "kernelspec": {
   "display_name": "Python 3 (ipykernel)",
   "language": "python",
   "name": "python3"
  },
  "language_info": {
   "codemirror_mode": {
    "name": "ipython",
    "version": 3
   },
   "file_extension": ".py",
   "mimetype": "text/x-python",
   "name": "python",
   "nbconvert_exporter": "python",
   "pygments_lexer": "ipython3",
   "version": "3.9.7"
  }
 },
 "nbformat": 4,
 "nbformat_minor": 5
}
